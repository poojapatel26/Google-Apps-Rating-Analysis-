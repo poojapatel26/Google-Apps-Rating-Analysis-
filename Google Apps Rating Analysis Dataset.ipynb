{
 "cells": [
  {
   "cell_type": "markdown",
   "metadata": {},
   "source": [
    "# Importing Libraries"
   ]
  },
  {
   "cell_type": "code",
   "execution_count": 1,
   "metadata": {},
   "outputs": [],
   "source": [
    "import pandas as pd\n",
    "import numpy as np\n",
    "import re\n",
    "from sklearn import preprocessing\n",
    "import datetime"
   ]
  },
  {
   "cell_type": "code",
   "execution_count": 2,
   "metadata": {},
   "outputs": [],
   "source": [
    "import matplotlib.pyplot as plt\n",
    "import seaborn as sns\n",
    "import string"
   ]
  },
  {
   "cell_type": "code",
   "execution_count": 3,
   "metadata": {},
   "outputs": [],
   "source": [
    "%matplotlib inline"
   ]
  },
  {
   "cell_type": "code",
   "execution_count": 4,
   "metadata": {},
   "outputs": [],
   "source": [
    "df=pd.read_csv('googleplaystore.csv')"
   ]
  },
  {
   "cell_type": "code",
   "execution_count": 5,
   "metadata": {},
   "outputs": [
    {
     "data": {
      "text/html": [
       "<div>\n",
       "<style scoped>\n",
       "    .dataframe tbody tr th:only-of-type {\n",
       "        vertical-align: middle;\n",
       "    }\n",
       "\n",
       "    .dataframe tbody tr th {\n",
       "        vertical-align: top;\n",
       "    }\n",
       "\n",
       "    .dataframe thead th {\n",
       "        text-align: right;\n",
       "    }\n",
       "</style>\n",
       "<table border=\"1\" class=\"dataframe\">\n",
       "  <thead>\n",
       "    <tr style=\"text-align: right;\">\n",
       "      <th></th>\n",
       "      <th>App</th>\n",
       "      <th>Category</th>\n",
       "      <th>Rating</th>\n",
       "      <th>Reviews</th>\n",
       "      <th>Size</th>\n",
       "      <th>Installs</th>\n",
       "      <th>Type</th>\n",
       "      <th>Price</th>\n",
       "      <th>Content Rating</th>\n",
       "      <th>Genres</th>\n",
       "      <th>Last Updated</th>\n",
       "      <th>Current Ver</th>\n",
       "      <th>Android Ver</th>\n",
       "    </tr>\n",
       "  </thead>\n",
       "  <tbody>\n",
       "    <tr>\n",
       "      <td>0</td>\n",
       "      <td>Photo Editor &amp; Candy Camera &amp; Grid &amp; ScrapBook</td>\n",
       "      <td>ART_AND_DESIGN</td>\n",
       "      <td>4.1</td>\n",
       "      <td>159</td>\n",
       "      <td>19M</td>\n",
       "      <td>10,000+</td>\n",
       "      <td>Free</td>\n",
       "      <td>0</td>\n",
       "      <td>Everyone</td>\n",
       "      <td>Art &amp; Design</td>\n",
       "      <td>January 7, 2018</td>\n",
       "      <td>1.0.0</td>\n",
       "      <td>4.0.3 and up</td>\n",
       "    </tr>\n",
       "    <tr>\n",
       "      <td>1</td>\n",
       "      <td>Coloring book moana</td>\n",
       "      <td>ART_AND_DESIGN</td>\n",
       "      <td>3.9</td>\n",
       "      <td>967</td>\n",
       "      <td>14M</td>\n",
       "      <td>500,000+</td>\n",
       "      <td>Free</td>\n",
       "      <td>0</td>\n",
       "      <td>Everyone</td>\n",
       "      <td>Art &amp; Design;Pretend Play</td>\n",
       "      <td>January 15, 2018</td>\n",
       "      <td>2.0.0</td>\n",
       "      <td>4.0.3 and up</td>\n",
       "    </tr>\n",
       "    <tr>\n",
       "      <td>2</td>\n",
       "      <td>U Launcher Lite – FREE Live Cool Themes, Hide ...</td>\n",
       "      <td>ART_AND_DESIGN</td>\n",
       "      <td>4.7</td>\n",
       "      <td>87510</td>\n",
       "      <td>8.7M</td>\n",
       "      <td>5,000,000+</td>\n",
       "      <td>Free</td>\n",
       "      <td>0</td>\n",
       "      <td>Everyone</td>\n",
       "      <td>Art &amp; Design</td>\n",
       "      <td>August 1, 2018</td>\n",
       "      <td>1.2.4</td>\n",
       "      <td>4.0.3 and up</td>\n",
       "    </tr>\n",
       "    <tr>\n",
       "      <td>3</td>\n",
       "      <td>Sketch - Draw &amp; Paint</td>\n",
       "      <td>ART_AND_DESIGN</td>\n",
       "      <td>4.5</td>\n",
       "      <td>215644</td>\n",
       "      <td>25M</td>\n",
       "      <td>50,000,000+</td>\n",
       "      <td>Free</td>\n",
       "      <td>0</td>\n",
       "      <td>Teen</td>\n",
       "      <td>Art &amp; Design</td>\n",
       "      <td>June 8, 2018</td>\n",
       "      <td>Varies with device</td>\n",
       "      <td>4.2 and up</td>\n",
       "    </tr>\n",
       "    <tr>\n",
       "      <td>4</td>\n",
       "      <td>Pixel Draw - Number Art Coloring Book</td>\n",
       "      <td>ART_AND_DESIGN</td>\n",
       "      <td>4.3</td>\n",
       "      <td>967</td>\n",
       "      <td>2.8M</td>\n",
       "      <td>100,000+</td>\n",
       "      <td>Free</td>\n",
       "      <td>0</td>\n",
       "      <td>Everyone</td>\n",
       "      <td>Art &amp; Design;Creativity</td>\n",
       "      <td>June 20, 2018</td>\n",
       "      <td>1.1</td>\n",
       "      <td>4.4 and up</td>\n",
       "    </tr>\n",
       "  </tbody>\n",
       "</table>\n",
       "</div>"
      ],
      "text/plain": [
       "                                                 App        Category  Rating  \\\n",
       "0     Photo Editor & Candy Camera & Grid & ScrapBook  ART_AND_DESIGN     4.1   \n",
       "1                                Coloring book moana  ART_AND_DESIGN     3.9   \n",
       "2  U Launcher Lite – FREE Live Cool Themes, Hide ...  ART_AND_DESIGN     4.7   \n",
       "3                              Sketch - Draw & Paint  ART_AND_DESIGN     4.5   \n",
       "4              Pixel Draw - Number Art Coloring Book  ART_AND_DESIGN     4.3   \n",
       "\n",
       "  Reviews  Size     Installs  Type Price Content Rating  \\\n",
       "0     159   19M      10,000+  Free     0       Everyone   \n",
       "1     967   14M     500,000+  Free     0       Everyone   \n",
       "2   87510  8.7M   5,000,000+  Free     0       Everyone   \n",
       "3  215644   25M  50,000,000+  Free     0           Teen   \n",
       "4     967  2.8M     100,000+  Free     0       Everyone   \n",
       "\n",
       "                      Genres      Last Updated         Current Ver  \\\n",
       "0               Art & Design   January 7, 2018               1.0.0   \n",
       "1  Art & Design;Pretend Play  January 15, 2018               2.0.0   \n",
       "2               Art & Design    August 1, 2018               1.2.4   \n",
       "3               Art & Design      June 8, 2018  Varies with device   \n",
       "4    Art & Design;Creativity     June 20, 2018                 1.1   \n",
       "\n",
       "    Android Ver  \n",
       "0  4.0.3 and up  \n",
       "1  4.0.3 and up  \n",
       "2  4.0.3 and up  \n",
       "3    4.2 and up  \n",
       "4    4.4 and up  "
      ]
     },
     "execution_count": 5,
     "metadata": {},
     "output_type": "execute_result"
    }
   ],
   "source": [
    "df.head()"
   ]
  },
  {
   "cell_type": "code",
   "execution_count": 6,
   "metadata": {},
   "outputs": [
    {
     "data": {
      "text/plain": [
       "array(['ART_AND_DESIGN', 'AUTO_AND_VEHICLES', 'BEAUTY',\n",
       "       'BOOKS_AND_REFERENCE', 'BUSINESS', 'COMICS', 'COMMUNICATION',\n",
       "       'DATING', 'EDUCATION', 'ENTERTAINMENT', 'EVENTS', 'FINANCE',\n",
       "       'FOOD_AND_DRINK', 'HEALTH_AND_FITNESS', 'HOUSE_AND_HOME',\n",
       "       'LIBRARIES_AND_DEMO', 'LIFESTYLE', 'GAME', 'FAMILY', 'MEDICAL',\n",
       "       'SOCIAL', 'SHOPPING', 'PHOTOGRAPHY', 'SPORTS', 'TRAVEL_AND_LOCAL',\n",
       "       'TOOLS', 'PERSONALIZATION', 'PRODUCTIVITY', 'PARENTING', 'WEATHER',\n",
       "       'VIDEO_PLAYERS', 'NEWS_AND_MAGAZINES', 'MAPS_AND_NAVIGATION',\n",
       "       '1.9'], dtype=object)"
      ]
     },
     "execution_count": 6,
     "metadata": {},
     "output_type": "execute_result"
    }
   ],
   "source": [
    "df['Category'].unique()"
   ]
  },
  {
   "cell_type": "code",
   "execution_count": 7,
   "metadata": {},
   "outputs": [
    {
     "data": {
      "text/plain": [
       "34"
      ]
     },
     "execution_count": 7,
     "metadata": {},
     "output_type": "execute_result"
    }
   ],
   "source": [
    "df['Category'].nunique()"
   ]
  },
  {
   "cell_type": "markdown",
   "metadata": {},
   "source": [
    "# NOTE:- Deleting a bad column, we can see in category column contains 1.9 strange category value. \n",
    "It's obvious that the first value of this record is missing (App name) and \n",
    "all other values are respectively propagated backward starting from \"Category\" towards the \"Current Ver\"; and\n",
    "the last column which is \"Android Ver\" is left null. \n",
    "It's better to drop the entire recored instead of consider these unreasonable values while cleaning each column!"
   ]
  },
  {
   "cell_type": "code",
   "execution_count": 8,
   "metadata": {},
   "outputs": [],
   "source": [
    "i=df[df['Category']=='1.9'].index"
   ]
  },
  {
   "cell_type": "code",
   "execution_count": 9,
   "metadata": {},
   "outputs": [
    {
     "data": {
      "text/html": [
       "<div>\n",
       "<style scoped>\n",
       "    .dataframe tbody tr th:only-of-type {\n",
       "        vertical-align: middle;\n",
       "    }\n",
       "\n",
       "    .dataframe tbody tr th {\n",
       "        vertical-align: top;\n",
       "    }\n",
       "\n",
       "    .dataframe thead th {\n",
       "        text-align: right;\n",
       "    }\n",
       "</style>\n",
       "<table border=\"1\" class=\"dataframe\">\n",
       "  <thead>\n",
       "    <tr style=\"text-align: right;\">\n",
       "      <th></th>\n",
       "      <th>App</th>\n",
       "      <th>Category</th>\n",
       "      <th>Rating</th>\n",
       "      <th>Reviews</th>\n",
       "      <th>Size</th>\n",
       "      <th>Installs</th>\n",
       "      <th>Type</th>\n",
       "      <th>Price</th>\n",
       "      <th>Content Rating</th>\n",
       "      <th>Genres</th>\n",
       "      <th>Last Updated</th>\n",
       "      <th>Current Ver</th>\n",
       "      <th>Android Ver</th>\n",
       "    </tr>\n",
       "  </thead>\n",
       "  <tbody>\n",
       "    <tr>\n",
       "      <td>10472</td>\n",
       "      <td>Life Made WI-Fi Touchscreen Photo Frame</td>\n",
       "      <td>1.9</td>\n",
       "      <td>19.0</td>\n",
       "      <td>3.0M</td>\n",
       "      <td>1,000+</td>\n",
       "      <td>Free</td>\n",
       "      <td>0</td>\n",
       "      <td>Everyone</td>\n",
       "      <td>NaN</td>\n",
       "      <td>February 11, 2018</td>\n",
       "      <td>1.0.19</td>\n",
       "      <td>4.0 and up</td>\n",
       "      <td>NaN</td>\n",
       "    </tr>\n",
       "  </tbody>\n",
       "</table>\n",
       "</div>"
      ],
      "text/plain": [
       "                                           App Category  Rating Reviews  \\\n",
       "10472  Life Made WI-Fi Touchscreen Photo Frame      1.9    19.0    3.0M   \n",
       "\n",
       "         Size Installs Type     Price Content Rating             Genres  \\\n",
       "10472  1,000+     Free    0  Everyone            NaN  February 11, 2018   \n",
       "\n",
       "      Last Updated Current Ver Android Ver  \n",
       "10472       1.0.19  4.0 and up         NaN  "
      ]
     },
     "execution_count": 9,
     "metadata": {},
     "output_type": "execute_result"
    }
   ],
   "source": [
    "df.iloc[i]"
   ]
  },
  {
   "cell_type": "code",
   "execution_count": 10,
   "metadata": {},
   "outputs": [],
   "source": [
    "df=df.drop(i)"
   ]
  },
  {
   "cell_type": "code",
   "execution_count": 11,
   "metadata": {},
   "outputs": [
    {
     "data": {
      "text/plain": [
       "array(['ART_AND_DESIGN', 'AUTO_AND_VEHICLES', 'BEAUTY',\n",
       "       'BOOKS_AND_REFERENCE', 'BUSINESS', 'COMICS', 'COMMUNICATION',\n",
       "       'DATING', 'EDUCATION', 'ENTERTAINMENT', 'EVENTS', 'FINANCE',\n",
       "       'FOOD_AND_DRINK', 'HEALTH_AND_FITNESS', 'HOUSE_AND_HOME',\n",
       "       'LIBRARIES_AND_DEMO', 'LIFESTYLE', 'GAME', 'FAMILY', 'MEDICAL',\n",
       "       'SOCIAL', 'SHOPPING', 'PHOTOGRAPHY', 'SPORTS', 'TRAVEL_AND_LOCAL',\n",
       "       'TOOLS', 'PERSONALIZATION', 'PRODUCTIVITY', 'PARENTING', 'WEATHER',\n",
       "       'VIDEO_PLAYERS', 'NEWS_AND_MAGAZINES', 'MAPS_AND_NAVIGATION'],\n",
       "      dtype=object)"
      ]
     },
     "execution_count": 11,
     "metadata": {},
     "output_type": "execute_result"
    }
   ],
   "source": [
    "df['Category'].unique()"
   ]
  },
  {
   "cell_type": "code",
   "execution_count": 12,
   "metadata": {},
   "outputs": [
    {
     "data": {
      "text/plain": [
       "array(['Free', 'Paid', nan], dtype=object)"
      ]
     },
     "execution_count": 12,
     "metadata": {},
     "output_type": "execute_result"
    }
   ],
   "source": [
    "df['Type'].unique()"
   ]
  },
  {
   "cell_type": "code",
   "execution_count": 13,
   "metadata": {},
   "outputs": [
    {
     "data": {
      "text/plain": [
       "App                  0\n",
       "Category             0\n",
       "Rating            1474\n",
       "Reviews              0\n",
       "Size                 0\n",
       "Installs             0\n",
       "Type                 1\n",
       "Price                0\n",
       "Content Rating       0\n",
       "Genres               0\n",
       "Last Updated         0\n",
       "Current Ver          8\n",
       "Android Ver          2\n",
       "dtype: int64"
      ]
     },
     "execution_count": 13,
     "metadata": {},
     "output_type": "execute_result"
    }
   ],
   "source": [
    "df.isnull().sum()"
   ]
  },
  {
   "cell_type": "code",
   "execution_count": 14,
   "metadata": {},
   "outputs": [
    {
     "data": {
      "text/plain": [
       "<matplotlib.axes._subplots.AxesSubplot at 0x1a18fa77d0>"
      ]
     },
     "execution_count": 14,
     "metadata": {},
     "output_type": "execute_result"
    },
    {
     "data": {
      "image/png": "[encoded data removed]",
      "text/plain": [
       "<Figure size 432x288 with 2 Axes>"
      ]
     },
     "metadata": {
      "needs_background": "light"
     },
     "output_type": "display_data"
    }
   ],
   "source": [
    "sns.heatmap(df.isnull(),yticklabels=False)"
   ]
  },
  {
   "cell_type": "markdown",
   "metadata": {},
   "source": [
    "# NOTE:- Imputing null values of Rating Column of dataframe.\n",
    "       "
   ]
  },
  {
   "cell_type": "code",
   "execution_count": 15,
   "metadata": {},
   "outputs": [],
   "source": [
    "# The best way to fill missing values might be using the median instead of mean.\n",
    "df['Rating']=df['Rating'].fillna(df['Rating'].median())"
   ]
  },
  {
   "cell_type": "code",
   "execution_count": 16,
   "metadata": {},
   "outputs": [
    {
     "data": {
      "text/plain": [
       "App               0\n",
       "Category          0\n",
       "Rating            0\n",
       "Reviews           0\n",
       "Size              0\n",
       "Installs          0\n",
       "Type              1\n",
       "Price             0\n",
       "Content Rating    0\n",
       "Genres            0\n",
       "Last Updated      0\n",
       "Current Ver       8\n",
       "Android Ver       2\n",
       "dtype: int64"
      ]
     },
     "execution_count": 16,
     "metadata": {},
     "output_type": "execute_result"
    }
   ],
   "source": [
    "df.isnull().sum()"
   ]
  },
  {
   "cell_type": "code",
   "execution_count": 17,
   "metadata": {},
   "outputs": [
    {
     "data": {
      "text/plain": [
       "Free    10039\n",
       "Paid      800\n",
       "Name: Type, dtype: int64"
      ]
     },
     "execution_count": 17,
     "metadata": {},
     "output_type": "execute_result"
    }
   ],
   "source": [
    "df['Type'].value_counts()"
   ]
  },
  {
   "cell_type": "code",
   "execution_count": 18,
   "metadata": {},
   "outputs": [],
   "source": [
    "df=df.dropna(axis=0)"
   ]
  },
  {
   "cell_type": "code",
   "execution_count": 19,
   "metadata": {},
   "outputs": [
    {
     "data": {
      "text/plain": [
       "<matplotlib.axes._subplots.AxesSubplot at 0x1a2451a550>"
      ]
     },
     "execution_count": 19,
     "metadata": {},
     "output_type": "execute_result"
    },
    {
     "data": {
      "image/png": "[encoded data removed]",
      "text/plain": [
       "<Figure size 432x288 with 2 Axes>"
      ]
     },
     "metadata": {
      "needs_background": "light"
     },
     "output_type": "display_data"
    }
   ],
   "source": [
    "sns.heatmap(df.isnull(),yticklabels=False)"
   ]
  },
  {
   "cell_type": "code",
   "execution_count": 20,
   "metadata": {},
   "outputs": [
    {
     "data": {
      "text/plain": [
       "App               0\n",
       "Category          0\n",
       "Rating            0\n",
       "Reviews           0\n",
       "Size              0\n",
       "Installs          0\n",
       "Type              0\n",
       "Price             0\n",
       "Content Rating    0\n",
       "Genres            0\n",
       "Last Updated      0\n",
       "Current Ver       0\n",
       "Android Ver       0\n",
       "dtype: int64"
      ]
     },
     "execution_count": 20,
     "metadata": {},
     "output_type": "execute_result"
    }
   ],
   "source": [
    "df.isnull().sum()\n"
   ]
  },
  {
   "cell_type": "code",
   "execution_count": 21,
   "metadata": {},
   "outputs": [
    {
     "data": {
      "text/plain": [
       "0                     1.0.0\n",
       "1                     2.0.0\n",
       "2                     1.2.4\n",
       "3        Varies with device\n",
       "4                       1.1\n",
       "                ...        \n",
       "10836                  1.48\n",
       "10837                   1.0\n",
       "10838                   1.0\n",
       "10839    Varies with device\n",
       "10840    Varies with device\n",
       "Name: Current Ver, Length: 10829, dtype: object"
      ]
     },
     "execution_count": 21,
     "metadata": {},
     "output_type": "execute_result"
    }
   ],
   "source": [
    "df['Current Ver']"
   ]
  },
  {
   "cell_type": "code",
   "execution_count": 22,
   "metadata": {},
   "outputs": [],
   "source": [
    "# Before filling null values we have to clean all non numerical values & unicode characters \n",
    "replaces = [u'\\u00AE', u'\\u2013', u'\\u00C3', u'\\u00E3', u'\\u00B3', '[', ']', \"'\"]\n",
    "for i in replaces:\n",
    "    df['Current Ver'] = df['Current Ver'].astype(str).apply(lambda x : x.replace(i, ''))\n",
    "    \n",
    "regex = [r'[-+|/:/;(_)@]', r'\\s+', r'[A-Za-z]+']\n",
    "for j in regex:\n",
    "    df['Current Ver'] = df['Current Ver'].astype(str).apply(lambda x : re.sub(j, '0', x))\n",
    "    \n",
    "df['Current Ver'] = df['Current Ver'].astype(str).apply(lambda x : x.replace('.', ',',1).replace('.', '').replace(',', '.',1)).astype(float)\n",
    "\n",
    "df['Current Ver']=df['Current Ver'].fillna(df['Current Ver'].median())"
   ]
  },
  {
   "cell_type": "code",
   "execution_count": 23,
   "metadata": {},
   "outputs": [
    {
     "data": {
      "text/plain": [
       "0        1.00\n",
       "1        2.00\n",
       "2        1.24\n",
       "3        0.00\n",
       "4        1.10\n",
       "         ... \n",
       "10836    1.48\n",
       "10837    1.00\n",
       "10838    1.00\n",
       "10839    0.00\n",
       "10840    0.00\n",
       "Name: Current Ver, Length: 10829, dtype: float64"
      ]
     },
     "execution_count": 23,
     "metadata": {},
     "output_type": "execute_result"
    }
   ],
   "source": [
    "df['Current Ver']"
   ]
  },
  {
   "cell_type": "code",
   "execution_count": 24,
   "metadata": {},
   "outputs": [
    {
     "data": {
      "text/plain": [
       "0         January 7, 2018\n",
       "1        January 15, 2018\n",
       "2          August 1, 2018\n",
       "3            June 8, 2018\n",
       "4           June 20, 2018\n",
       "               ...       \n",
       "10836       July 25, 2017\n",
       "10837        July 6, 2018\n",
       "10838    January 20, 2017\n",
       "10839    January 19, 2015\n",
       "10840       July 25, 2018\n",
       "Name: Last Updated, Length: 10829, dtype: object"
      ]
     },
     "execution_count": 24,
     "metadata": {},
     "output_type": "execute_result"
    }
   ],
   "source": [
    "df['Last Updated']"
   ]
  },
  {
   "cell_type": "code",
   "execution_count": 25,
   "metadata": {},
   "outputs": [],
   "source": [
    "df=df[pd.notnull(df['Last Updated'])]\n",
    "df=df[pd.notnull(df['Content Rating'])]"
   ]
  },
  {
   "cell_type": "code",
   "execution_count": 26,
   "metadata": {},
   "outputs": [
    {
     "data": {
      "text/plain": [
       "count    10829.000000\n",
       "mean         4.206510\n",
       "std          0.480467\n",
       "min          1.000000\n",
       "25%          4.100000\n",
       "50%          4.300000\n",
       "75%          4.500000\n",
       "max          5.000000\n",
       "Name: Rating, dtype: float64"
      ]
     },
     "execution_count": 26,
     "metadata": {},
     "output_type": "execute_result"
    }
   ],
   "source": [
    "df['Rating'].describe()"
   ]
  },
  {
   "cell_type": "code",
   "execution_count": 27,
   "metadata": {},
   "outputs": [
    {
     "data": {
      "text/plain": [
       "Text(0, 0.5, 'Counts')"
      ]
     },
     "execution_count": 27,
     "metadata": {},
     "output_type": "execute_result"
    },
    {
     "data": {
      "image/png": "[encoded data removed]",
      "text/plain": [
       "<Figure size 432x288 with 1 Axes>"
      ]
     },
     "metadata": {
      "needs_background": "light"
     },
     "output_type": "display_data"
    }
   ],
   "source": [
    "df['Rating'].plot(kind='hist',bins=23)\n",
    "plt.title('Distribution of {}'.format('Rating'))\n",
    "plt.xlabel('Rating')\n",
    "plt.ylabel(\"Counts\")\n"
   ]
  },
  {
   "cell_type": "code",
   "execution_count": 28,
   "metadata": {},
   "outputs": [
    {
     "data": {
      "text/html": [
       "<div>\n",
       "<style scoped>\n",
       "    .dataframe tbody tr th:only-of-type {\n",
       "        vertical-align: middle;\n",
       "    }\n",
       "\n",
       "    .dataframe tbody tr th {\n",
       "        vertical-align: top;\n",
       "    }\n",
       "\n",
       "    .dataframe thead th {\n",
       "        text-align: right;\n",
       "    }\n",
       "</style>\n",
       "<table border=\"1\" class=\"dataframe\">\n",
       "  <thead>\n",
       "    <tr style=\"text-align: right;\">\n",
       "      <th></th>\n",
       "      <th>Rating</th>\n",
       "      <th>Type</th>\n",
       "      <th>Category</th>\n",
       "    </tr>\n",
       "  </thead>\n",
       "  <tbody>\n",
       "    <tr>\n",
       "      <td>0</td>\n",
       "      <td>4.1</td>\n",
       "      <td>Free</td>\n",
       "      <td>ART_AND_DESIGN</td>\n",
       "    </tr>\n",
       "    <tr>\n",
       "      <td>1</td>\n",
       "      <td>3.9</td>\n",
       "      <td>Free</td>\n",
       "      <td>ART_AND_DESIGN</td>\n",
       "    </tr>\n",
       "    <tr>\n",
       "      <td>2</td>\n",
       "      <td>4.7</td>\n",
       "      <td>Free</td>\n",
       "      <td>ART_AND_DESIGN</td>\n",
       "    </tr>\n",
       "    <tr>\n",
       "      <td>3</td>\n",
       "      <td>4.5</td>\n",
       "      <td>Free</td>\n",
       "      <td>ART_AND_DESIGN</td>\n",
       "    </tr>\n",
       "    <tr>\n",
       "      <td>4</td>\n",
       "      <td>4.3</td>\n",
       "      <td>Free</td>\n",
       "      <td>ART_AND_DESIGN</td>\n",
       "    </tr>\n",
       "    <tr>\n",
       "      <td>...</td>\n",
       "      <td>...</td>\n",
       "      <td>...</td>\n",
       "      <td>...</td>\n",
       "    </tr>\n",
       "    <tr>\n",
       "      <td>10836</td>\n",
       "      <td>4.5</td>\n",
       "      <td>Free</td>\n",
       "      <td>FAMILY</td>\n",
       "    </tr>\n",
       "    <tr>\n",
       "      <td>10837</td>\n",
       "      <td>5.0</td>\n",
       "      <td>Free</td>\n",
       "      <td>FAMILY</td>\n",
       "    </tr>\n",
       "    <tr>\n",
       "      <td>10838</td>\n",
       "      <td>4.3</td>\n",
       "      <td>Free</td>\n",
       "      <td>MEDICAL</td>\n",
       "    </tr>\n",
       "    <tr>\n",
       "      <td>10839</td>\n",
       "      <td>4.5</td>\n",
       "      <td>Free</td>\n",
       "      <td>BOOKS_AND_REFERENCE</td>\n",
       "    </tr>\n",
       "    <tr>\n",
       "      <td>10840</td>\n",
       "      <td>4.5</td>\n",
       "      <td>Free</td>\n",
       "      <td>LIFESTYLE</td>\n",
       "    </tr>\n",
       "  </tbody>\n",
       "</table>\n",
       "<p>10829 rows × 3 columns</p>\n",
       "</div>"
      ],
      "text/plain": [
       "       Rating  Type             Category\n",
       "0         4.1  Free       ART_AND_DESIGN\n",
       "1         3.9  Free       ART_AND_DESIGN\n",
       "2         4.7  Free       ART_AND_DESIGN\n",
       "3         4.5  Free       ART_AND_DESIGN\n",
       "4         4.3  Free       ART_AND_DESIGN\n",
       "...       ...   ...                  ...\n",
       "10836     4.5  Free               FAMILY\n",
       "10837     5.0  Free               FAMILY\n",
       "10838     4.3  Free              MEDICAL\n",
       "10839     4.5  Free  BOOKS_AND_REFERENCE\n",
       "10840     4.5  Free            LIFESTYLE\n",
       "\n",
       "[10829 rows x 3 columns]"
      ]
     },
     "execution_count": 28,
     "metadata": {},
     "output_type": "execute_result"
    }
   ],
   "source": [
    "df_rating=pd.DataFrame(data=df,columns=['Rating', 'Type', 'Category'])\n",
    "df_rating"
   ]
  },
  {
   "cell_type": "code",
   "execution_count": 29,
   "metadata": {},
   "outputs": [
    {
     "data": {
      "text/plain": [
       "<matplotlib.axes._subplots.AxesSubplot at 0x1a24ed6fd0>"
      ]
     },
     "execution_count": 29,
     "metadata": {},
     "output_type": "execute_result"
    },
    {
     "data": {
      "image/png": "[encoded data removed]",
      "text/plain": [
       "<Figure size 720x432 with 1 Axes>"
      ]
     },
     "metadata": {
      "needs_background": "light"
     },
     "output_type": "display_data"
    }
   ],
   "source": [
    "df_rating.groupby('Category')['Rating'].count().plot(kind='bar',figsize=(10,6))"
   ]
  },
  {
   "cell_type": "markdown",
   "metadata": {},
   "source": [
    "## How do the app ratings differ between paid and free apps in general?"
   ]
  },
  {
   "cell_type": "code",
   "execution_count": 30,
   "metadata": {},
   "outputs": [
    {
     "data": {
      "text/html": [
       "<div>\n",
       "<style scoped>\n",
       "    .dataframe tbody tr th:only-of-type {\n",
       "        vertical-align: middle;\n",
       "    }\n",
       "\n",
       "    .dataframe tbody tr th {\n",
       "        vertical-align: top;\n",
       "    }\n",
       "\n",
       "    .dataframe thead th {\n",
       "        text-align: right;\n",
       "    }\n",
       "</style>\n",
       "<table border=\"1\" class=\"dataframe\">\n",
       "  <thead>\n",
       "    <tr style=\"text-align: right;\">\n",
       "      <th>Type</th>\n",
       "      <th>Free</th>\n",
       "      <th>Paid</th>\n",
       "    </tr>\n",
       "    <tr>\n",
       "      <th>Category</th>\n",
       "      <th></th>\n",
       "      <th></th>\n",
       "    </tr>\n",
       "  </thead>\n",
       "  <tbody>\n",
       "    <tr>\n",
       "      <td>ART_AND_DESIGN</td>\n",
       "      <td>4.355738</td>\n",
       "      <td>4.733333</td>\n",
       "    </tr>\n",
       "    <tr>\n",
       "      <td>AUTO_AND_VEHICLES</td>\n",
       "      <td>4.198780</td>\n",
       "      <td>4.400000</td>\n",
       "    </tr>\n",
       "    <tr>\n",
       "      <td>BEAUTY</td>\n",
       "      <td>4.283019</td>\n",
       "      <td>NaN</td>\n",
       "    </tr>\n",
       "    <tr>\n",
       "      <td>BOOKS_AND_REFERENCE</td>\n",
       "      <td>4.341584</td>\n",
       "      <td>4.292857</td>\n",
       "    </tr>\n",
       "    <tr>\n",
       "      <td>BUSINESS</td>\n",
       "      <td>4.181166</td>\n",
       "      <td>4.221429</td>\n",
       "    </tr>\n",
       "    <tr>\n",
       "      <td>COMICS</td>\n",
       "      <td>4.160000</td>\n",
       "      <td>NaN</td>\n",
       "    </tr>\n",
       "    <tr>\n",
       "      <td>COMMUNICATION</td>\n",
       "      <td>4.185556</td>\n",
       "      <td>4.107407</td>\n",
       "    </tr>\n",
       "    <tr>\n",
       "      <td>DATING</td>\n",
       "      <td>4.029075</td>\n",
       "      <td>3.914286</td>\n",
       "    </tr>\n",
       "    <tr>\n",
       "      <td>EDUCATION</td>\n",
       "      <td>4.378947</td>\n",
       "      <td>4.750000</td>\n",
       "    </tr>\n",
       "    <tr>\n",
       "      <td>ENTERTAINMENT</td>\n",
       "      <td>4.119728</td>\n",
       "      <td>4.600000</td>\n",
       "    </tr>\n",
       "    <tr>\n",
       "      <td>EVENTS</td>\n",
       "      <td>4.396825</td>\n",
       "      <td>4.300000</td>\n",
       "    </tr>\n",
       "    <tr>\n",
       "      <td>FAMILY</td>\n",
       "      <td>4.194601</td>\n",
       "      <td>4.297368</td>\n",
       "    </tr>\n",
       "    <tr>\n",
       "      <td>FINANCE</td>\n",
       "      <td>4.161891</td>\n",
       "      <td>3.941176</td>\n",
       "    </tr>\n",
       "    <tr>\n",
       "      <td>FOOD_AND_DRINK</td>\n",
       "      <td>4.183200</td>\n",
       "      <td>4.350000</td>\n",
       "    </tr>\n",
       "    <tr>\n",
       "      <td>GAME</td>\n",
       "      <td>4.280584</td>\n",
       "      <td>4.367470</td>\n",
       "    </tr>\n",
       "    <tr>\n",
       "      <td>HEALTH_AND_FITNESS</td>\n",
       "      <td>4.275692</td>\n",
       "      <td>4.368750</td>\n",
       "    </tr>\n",
       "    <tr>\n",
       "      <td>HOUSE_AND_HOME</td>\n",
       "      <td>4.211364</td>\n",
       "      <td>NaN</td>\n",
       "    </tr>\n",
       "    <tr>\n",
       "      <td>LIBRARIES_AND_DEMO</td>\n",
       "      <td>4.207229</td>\n",
       "      <td>4.300000</td>\n",
       "    </tr>\n",
       "    <tr>\n",
       "      <td>LIFESTYLE</td>\n",
       "      <td>4.125069</td>\n",
       "      <td>4.252632</td>\n",
       "    </tr>\n",
       "    <tr>\n",
       "      <td>MAPS_AND_NAVIGATION</td>\n",
       "      <td>4.083333</td>\n",
       "      <td>3.860000</td>\n",
       "    </tr>\n",
       "    <tr>\n",
       "      <td>MEDICAL</td>\n",
       "      <td>4.200565</td>\n",
       "      <td>4.266972</td>\n",
       "    </tr>\n",
       "    <tr>\n",
       "      <td>NEWS_AND_MAGAZINES</td>\n",
       "      <td>4.157295</td>\n",
       "      <td>4.800000</td>\n",
       "    </tr>\n",
       "    <tr>\n",
       "      <td>PARENTING</td>\n",
       "      <td>4.332759</td>\n",
       "      <td>3.350000</td>\n",
       "    </tr>\n",
       "    <tr>\n",
       "      <td>PERSONALIZATION</td>\n",
       "      <td>4.305195</td>\n",
       "      <td>4.414634</td>\n",
       "    </tr>\n",
       "    <tr>\n",
       "      <td>PHOTOGRAPHY</td>\n",
       "      <td>4.205431</td>\n",
       "      <td>4.090909</td>\n",
       "    </tr>\n",
       "    <tr>\n",
       "      <td>PRODUCTIVITY</td>\n",
       "      <td>4.225758</td>\n",
       "      <td>4.239286</td>\n",
       "    </tr>\n",
       "    <tr>\n",
       "      <td>SHOPPING</td>\n",
       "      <td>4.261240</td>\n",
       "      <td>4.500000</td>\n",
       "    </tr>\n",
       "    <tr>\n",
       "      <td>SOCIAL</td>\n",
       "      <td>4.264726</td>\n",
       "      <td>3.900000</td>\n",
       "    </tr>\n",
       "    <tr>\n",
       "      <td>SPORTS</td>\n",
       "      <td>4.235000</td>\n",
       "      <td>4.258333</td>\n",
       "    </tr>\n",
       "    <tr>\n",
       "      <td>TOOLS</td>\n",
       "      <td>4.068194</td>\n",
       "      <td>4.193506</td>\n",
       "    </tr>\n",
       "    <tr>\n",
       "      <td>TRAVEL_AND_LOCAL</td>\n",
       "      <td>4.131301</td>\n",
       "      <td>4.166667</td>\n",
       "    </tr>\n",
       "    <tr>\n",
       "      <td>VIDEO_PLAYERS</td>\n",
       "      <td>4.083626</td>\n",
       "      <td>4.100000</td>\n",
       "    </tr>\n",
       "    <tr>\n",
       "      <td>WEATHER</td>\n",
       "      <td>4.236486</td>\n",
       "      <td>4.362500</td>\n",
       "    </tr>\n",
       "  </tbody>\n",
       "</table>\n",
       "</div>"
      ],
      "text/plain": [
       "Type                     Free      Paid\n",
       "Category                               \n",
       "ART_AND_DESIGN       4.355738  4.733333\n",
       "AUTO_AND_VEHICLES    4.198780  4.400000\n",
       "BEAUTY               4.283019       NaN\n",
       "BOOKS_AND_REFERENCE  4.341584  4.292857\n",
       "BUSINESS             4.181166  4.221429\n",
       "COMICS               4.160000       NaN\n",
       "COMMUNICATION        4.185556  4.107407\n",
       "DATING               4.029075  3.914286\n",
       "EDUCATION            4.378947  4.750000\n",
       "ENTERTAINMENT        4.119728  4.600000\n",
       "EVENTS               4.396825  4.300000\n",
       "FAMILY               4.194601  4.297368\n",
       "FINANCE              4.161891  3.941176\n",
       "FOOD_AND_DRINK       4.183200  4.350000\n",
       "GAME                 4.280584  4.367470\n",
       "HEALTH_AND_FITNESS   4.275692  4.368750\n",
       "HOUSE_AND_HOME       4.211364       NaN\n",
       "LIBRARIES_AND_DEMO   4.207229  4.300000\n",
       "LIFESTYLE            4.125069  4.252632\n",
       "MAPS_AND_NAVIGATION  4.083333  3.860000\n",
       "MEDICAL              4.200565  4.266972\n",
       "NEWS_AND_MAGAZINES   4.157295  4.800000\n",
       "PARENTING            4.332759  3.350000\n",
       "PERSONALIZATION      4.305195  4.414634\n",
       "PHOTOGRAPHY          4.205431  4.090909\n",
       "PRODUCTIVITY         4.225758  4.239286\n",
       "SHOPPING             4.261240  4.500000\n",
       "SOCIAL               4.264726  3.900000\n",
       "SPORTS               4.235000  4.258333\n",
       "TOOLS                4.068194  4.193506\n",
       "TRAVEL_AND_LOCAL     4.131301  4.166667\n",
       "VIDEO_PLAYERS        4.083626  4.100000\n",
       "WEATHER              4.236486  4.362500"
      ]
     },
     "execution_count": 30,
     "metadata": {},
     "output_type": "execute_result"
    }
   ],
   "source": [
    "df_rating_cat=df_rating.groupby(['Category','Type'])['Rating'].mean().unstack()\n",
    "df_rating_cat"
   ]
  },
  {
   "cell_type": "markdown",
   "metadata": {},
   "source": [
    "### Conclusion: Paid app is not available on BEAUTY,COMICS and HOUSE_AND_HOME category."
   ]
  },
  {
   "cell_type": "code",
   "execution_count": 31,
   "metadata": {},
   "outputs": [
    {
     "data": {
      "text/plain": [
       "Text(0, 0.5, 'Rating')"
      ]
     },
     "execution_count": 31,
     "metadata": {},
     "output_type": "execute_result"
    },
    {
     "data": {
      "image/png": "[encoded data removed]",
      "text/plain": [
       "<Figure size 864x576 with 1 Axes>"
      ]
     },
     "metadata": {
      "needs_background": "light"
     },
     "output_type": "display_data"
    }
   ],
   "source": [
    "df_rating_cat.plot(kind='bar',figsize=(12,8))\n",
    "plt.title(\"Avrarage rating based on different category and type\")\n",
    "plt.ylabel(\"Rating\")"
   ]
  },
  {
   "cell_type": "markdown",
   "metadata": {},
   "source": [
    "##  How does the ratings differ in general?"
   ]
  },
  {
   "cell_type": "code",
   "execution_count": 32,
   "metadata": {},
   "outputs": [
    {
     "data": {
      "text/plain": [
       "Text(0, 0.5, 'Rating')"
      ]
     },
     "execution_count": 32,
     "metadata": {},
     "output_type": "execute_result"
    },
    {
     "data": {
      "image/png": "[encoded data removed]",
      "text/plain": [
       "<Figure size 432x288 with 1 Axes>"
      ]
     },
     "metadata": {
      "needs_background": "light"
     },
     "output_type": "display_data"
    }
   ],
   "source": [
    "df_rating.groupby('Type')['Rating'].mean().plot(kind='bar')\n",
    "plt.title(\"Average Rating of free and paid apps\")\n",
    "plt.ylim(0,5)\n",
    "plt.ylabel(\"Rating\")\n"
   ]
  },
  {
   "cell_type": "code",
   "execution_count": 33,
   "metadata": {},
   "outputs": [
    {
     "data": {
      "text/plain": [
       "Type\n",
       "Free    4.201216\n",
       "Paid    4.273149\n",
       "Name: Rating, dtype: float64"
      ]
     },
     "execution_count": 33,
     "metadata": {},
     "output_type": "execute_result"
    }
   ],
   "source": [
    "df_rating.groupby('Type')['Rating'].mean()"
   ]
  },
  {
   "cell_type": "code",
   "execution_count": 34,
   "metadata": {},
   "outputs": [
    {
     "data": {
      "text/plain": [
       "4.206510296426401"
      ]
     },
     "execution_count": 34,
     "metadata": {},
     "output_type": "execute_result"
    }
   ],
   "source": [
    "df['Rating'].mean()"
   ]
  },
  {
   "cell_type": "markdown",
   "metadata": {},
   "source": [
    "### Conclusion: The average Rating of Free Apps is 4.20 and average Rating of Paid Apps  is 4.27                               Note that the average rating for all apps is 4.20,                                                                                                                So, Free apps are rated same as average, while Paid apps are rated little higher than the average score."
   ]
  },
  {
   "cell_type": "code",
   "execution_count": 35,
   "metadata": {},
   "outputs": [],
   "source": [
    "# App values encoding\n",
    "le = preprocessing.LabelEncoder()\n",
    "df['App'] = le.fit_transform(df['App'])\n",
    "# This encoder converts the values into numeric values"
   ]
  },
  {
   "cell_type": "code",
   "execution_count": 36,
   "metadata": {},
   "outputs": [
    {
     "data": {
      "text/plain": [
       "0        6955\n",
       "1        2630\n",
       "2        8648\n",
       "3        7819\n",
       "4        7014\n",
       "         ... \n",
       "10836    8165\n",
       "10837    4605\n",
       "10838    6884\n",
       "10839    8386\n",
       "10840    9475\n",
       "Name: App, Length: 10829, dtype: int64"
      ]
     },
     "execution_count": 36,
     "metadata": {},
     "output_type": "execute_result"
    }
   ],
   "source": [
    "df['App']"
   ]
  },
  {
   "cell_type": "code",
   "execution_count": 37,
   "metadata": {},
   "outputs": [],
   "source": [
    "# Category features encoding\n",
    "category_list=df['Category'].unique().tolist()\n",
    "category_list = ['cat_' + word for word in category_list]\n",
    "df = pd.concat([df, pd.get_dummies(df['Category'], prefix='cat')], axis=1)"
   ]
  },
  {
   "cell_type": "code",
   "execution_count": 38,
   "metadata": {},
   "outputs": [],
   "source": [
    "# Genres feature encoding\n",
    "le= preprocessing.LabelEncoder()\n",
    "df['Genres']=le.fit_transform(df['Genres'])"
   ]
  },
  {
   "cell_type": "code",
   "execution_count": 39,
   "metadata": {},
   "outputs": [
    {
     "data": {
      "text/plain": [
       "0         9\n",
       "1        12\n",
       "2         9\n",
       "3         9\n",
       "4        11\n",
       "         ..\n",
       "10836    39\n",
       "10837    39\n",
       "10838    71\n",
       "10839    19\n",
       "10840    67\n",
       "Name: Genres, Length: 10829, dtype: int64"
      ]
     },
     "execution_count": 39,
     "metadata": {},
     "output_type": "execute_result"
    }
   ],
   "source": [
    "df['Genres']"
   ]
  },
  {
   "cell_type": "code",
   "execution_count": 40,
   "metadata": {},
   "outputs": [],
   "source": [
    "# Encoding Content Rating feature\n",
    "le=preprocessing.LabelEncoder()\n",
    "df['Content Rating']=le.fit_transform(df['Content Rating'])"
   ]
  },
  {
   "cell_type": "code",
   "execution_count": 41,
   "metadata": {},
   "outputs": [
    {
     "data": {
      "text/plain": [
       "0        1\n",
       "1        1\n",
       "2        1\n",
       "3        4\n",
       "4        1\n",
       "        ..\n",
       "10836    1\n",
       "10837    1\n",
       "10838    1\n",
       "10839    3\n",
       "10840    1\n",
       "Name: Content Rating, Length: 10829, dtype: int64"
      ]
     },
     "execution_count": 41,
     "metadata": {},
     "output_type": "execute_result"
    }
   ],
   "source": [
    "df['Content Rating']"
   ]
  },
  {
   "cell_type": "code",
   "execution_count": 42,
   "metadata": {},
   "outputs": [],
   "source": [
    "# Price cleaning ---> removing $ from price column\n",
    "df['Price']=df['Price'].apply(lambda x: x.strip('$'))\n",
    "\n",
    "# Installs Cleaning ----> removing + from installs column\n",
    "df['Installs']=df['Installs'].apply(lambda x: x.strip('+').replace(\",\",\"\"))\n",
    "\n",
    "# Last Updated encoding \n",
    "df['Last Updated']=pd.to_datetime(df['Last Updated'])"
   ]
  },
  {
   "cell_type": "code",
   "execution_count": 43,
   "metadata": {},
   "outputs": [],
   "source": [
    "# Convert kbytes to Mbytes \n",
    "k_indices = df['Size'].loc[df['Size'].str.contains('k')].index.tolist()\n",
    "converter = pd.DataFrame(df.loc[k_indices, 'Size'].apply(lambda x: x.strip('k')).astype(float).apply(lambda x: x / 1024).\n",
    "                        apply(lambda x: round(x,3)).astype(str))\n",
    "df.loc[k_indices,'Size']=converter\n",
    "\n",
    "#Removing M from Size column\n",
    "df['Size']= df['Size'].apply(lambda x: x.strip('M'))\n",
    "\n",
    "\n",
    "df[df['Size']=='Varies with device'] = 0\n",
    "df['Size']=df['Size'].astype(float)"
   ]
  },
  {
   "cell_type": "code",
   "execution_count": 44,
   "metadata": {},
   "outputs": [
    {
     "data": {
      "text/plain": [
       "0        19.0\n",
       "1        14.0\n",
       "2         8.7\n",
       "3        25.0\n",
       "4         2.8\n",
       "         ... \n",
       "10836    53.0\n",
       "10837     3.6\n",
       "10838     9.5\n",
       "10839     0.0\n",
       "10840    19.0\n",
       "Name: Size, Length: 10829, dtype: float64"
      ]
     },
     "execution_count": 44,
     "metadata": {},
     "output_type": "execute_result"
    }
   ],
   "source": [
    "df['Size']"
   ]
  },
  {
   "cell_type": "code",
   "execution_count": 45,
   "metadata": {},
   "outputs": [],
   "source": [
    "# Type encoding\n",
    "df['Type']=pd.get_dummies(df['Type'])\n",
    "\n"
   ]
  },
  {
   "cell_type": "code",
   "execution_count": 46,
   "metadata": {},
   "outputs": [
    {
     "data": {
      "text/plain": [
       "dtype('float64')"
      ]
     },
     "execution_count": 46,
     "metadata": {},
     "output_type": "execute_result"
    }
   ],
   "source": [
    "df['Size'].dtype"
   ]
  },
  {
   "cell_type": "code",
   "execution_count": 47,
   "metadata": {},
   "outputs": [
    {
     "data": {
      "text/html": [
       "<div>\n",
       "<style scoped>\n",
       "    .dataframe tbody tr th:only-of-type {\n",
       "        vertical-align: middle;\n",
       "    }\n",
       "\n",
       "    .dataframe tbody tr th {\n",
       "        vertical-align: top;\n",
       "    }\n",
       "\n",
       "    .dataframe thead th {\n",
       "        text-align: right;\n",
       "    }\n",
       "</style>\n",
       "<table border=\"1\" class=\"dataframe\">\n",
       "  <thead>\n",
       "    <tr style=\"text-align: right;\">\n",
       "      <th></th>\n",
       "      <th>App</th>\n",
       "      <th>Category</th>\n",
       "      <th>Rating</th>\n",
       "      <th>Reviews</th>\n",
       "      <th>Size</th>\n",
       "      <th>Installs</th>\n",
       "      <th>Type</th>\n",
       "      <th>Price</th>\n",
       "      <th>Content Rating</th>\n",
       "      <th>Genres</th>\n",
       "      <th>...</th>\n",
       "      <th>cat_PERSONALIZATION</th>\n",
       "      <th>cat_PHOTOGRAPHY</th>\n",
       "      <th>cat_PRODUCTIVITY</th>\n",
       "      <th>cat_SHOPPING</th>\n",
       "      <th>cat_SOCIAL</th>\n",
       "      <th>cat_SPORTS</th>\n",
       "      <th>cat_TOOLS</th>\n",
       "      <th>cat_TRAVEL_AND_LOCAL</th>\n",
       "      <th>cat_VIDEO_PLAYERS</th>\n",
       "      <th>cat_WEATHER</th>\n",
       "    </tr>\n",
       "  </thead>\n",
       "  <tbody>\n",
       "    <tr>\n",
       "      <td>0</td>\n",
       "      <td>6955</td>\n",
       "      <td>ART_AND_DESIGN</td>\n",
       "      <td>4.1</td>\n",
       "      <td>159</td>\n",
       "      <td>19.0</td>\n",
       "      <td>10000</td>\n",
       "      <td>0</td>\n",
       "      <td>0</td>\n",
       "      <td>1</td>\n",
       "      <td>9</td>\n",
       "      <td>...</td>\n",
       "      <td>0</td>\n",
       "      <td>0</td>\n",
       "      <td>0</td>\n",
       "      <td>0</td>\n",
       "      <td>0</td>\n",
       "      <td>0</td>\n",
       "      <td>0</td>\n",
       "      <td>0</td>\n",
       "      <td>0</td>\n",
       "      <td>0</td>\n",
       "    </tr>\n",
       "    <tr>\n",
       "      <td>1</td>\n",
       "      <td>2630</td>\n",
       "      <td>ART_AND_DESIGN</td>\n",
       "      <td>3.9</td>\n",
       "      <td>967</td>\n",
       "      <td>14.0</td>\n",
       "      <td>500000</td>\n",
       "      <td>0</td>\n",
       "      <td>0</td>\n",
       "      <td>1</td>\n",
       "      <td>12</td>\n",
       "      <td>...</td>\n",
       "      <td>0</td>\n",
       "      <td>0</td>\n",
       "      <td>0</td>\n",
       "      <td>0</td>\n",
       "      <td>0</td>\n",
       "      <td>0</td>\n",
       "      <td>0</td>\n",
       "      <td>0</td>\n",
       "      <td>0</td>\n",
       "      <td>0</td>\n",
       "    </tr>\n",
       "    <tr>\n",
       "      <td>2</td>\n",
       "      <td>8648</td>\n",
       "      <td>ART_AND_DESIGN</td>\n",
       "      <td>4.7</td>\n",
       "      <td>87510</td>\n",
       "      <td>8.7</td>\n",
       "      <td>5000000</td>\n",
       "      <td>0</td>\n",
       "      <td>0</td>\n",
       "      <td>1</td>\n",
       "      <td>9</td>\n",
       "      <td>...</td>\n",
       "      <td>0</td>\n",
       "      <td>0</td>\n",
       "      <td>0</td>\n",
       "      <td>0</td>\n",
       "      <td>0</td>\n",
       "      <td>0</td>\n",
       "      <td>0</td>\n",
       "      <td>0</td>\n",
       "      <td>0</td>\n",
       "      <td>0</td>\n",
       "    </tr>\n",
       "    <tr>\n",
       "      <td>3</td>\n",
       "      <td>7819</td>\n",
       "      <td>ART_AND_DESIGN</td>\n",
       "      <td>4.5</td>\n",
       "      <td>215644</td>\n",
       "      <td>25.0</td>\n",
       "      <td>50000000</td>\n",
       "      <td>0</td>\n",
       "      <td>0</td>\n",
       "      <td>4</td>\n",
       "      <td>9</td>\n",
       "      <td>...</td>\n",
       "      <td>0</td>\n",
       "      <td>0</td>\n",
       "      <td>0</td>\n",
       "      <td>0</td>\n",
       "      <td>0</td>\n",
       "      <td>0</td>\n",
       "      <td>0</td>\n",
       "      <td>0</td>\n",
       "      <td>0</td>\n",
       "      <td>0</td>\n",
       "    </tr>\n",
       "    <tr>\n",
       "      <td>4</td>\n",
       "      <td>7014</td>\n",
       "      <td>ART_AND_DESIGN</td>\n",
       "      <td>4.3</td>\n",
       "      <td>967</td>\n",
       "      <td>2.8</td>\n",
       "      <td>100000</td>\n",
       "      <td>0</td>\n",
       "      <td>0</td>\n",
       "      <td>1</td>\n",
       "      <td>11</td>\n",
       "      <td>...</td>\n",
       "      <td>0</td>\n",
       "      <td>0</td>\n",
       "      <td>0</td>\n",
       "      <td>0</td>\n",
       "      <td>0</td>\n",
       "      <td>0</td>\n",
       "      <td>0</td>\n",
       "      <td>0</td>\n",
       "      <td>0</td>\n",
       "      <td>0</td>\n",
       "    </tr>\n",
       "  </tbody>\n",
       "</table>\n",
       "<p>5 rows × 46 columns</p>\n",
       "</div>"
      ],
      "text/plain": [
       "    App        Category  Rating Reviews  Size  Installs  Type Price  \\\n",
       "0  6955  ART_AND_DESIGN     4.1     159  19.0     10000     0     0   \n",
       "1  2630  ART_AND_DESIGN     3.9     967  14.0    500000     0     0   \n",
       "2  8648  ART_AND_DESIGN     4.7   87510   8.7   5000000     0     0   \n",
       "3  7819  ART_AND_DESIGN     4.5  215644  25.0  50000000     0     0   \n",
       "4  7014  ART_AND_DESIGN     4.3     967   2.8    100000     0     0   \n",
       "\n",
       "   Content Rating  Genres  ... cat_PERSONALIZATION  cat_PHOTOGRAPHY  \\\n",
       "0               1       9  ...                   0                0   \n",
       "1               1      12  ...                   0                0   \n",
       "2               1       9  ...                   0                0   \n",
       "3               4       9  ...                   0                0   \n",
       "4               1      11  ...                   0                0   \n",
       "\n",
       "  cat_PRODUCTIVITY  cat_SHOPPING  cat_SOCIAL  cat_SPORTS  cat_TOOLS  \\\n",
       "0                0             0           0           0          0   \n",
       "1                0             0           0           0          0   \n",
       "2                0             0           0           0          0   \n",
       "3                0             0           0           0          0   \n",
       "4                0             0           0           0          0   \n",
       "\n",
       "   cat_TRAVEL_AND_LOCAL  cat_VIDEO_PLAYERS  cat_WEATHER  \n",
       "0                     0                  0            0  \n",
       "1                     0                  0            0  \n",
       "2                     0                  0            0  \n",
       "3                     0                  0            0  \n",
       "4                     0                  0            0  \n",
       "\n",
       "[5 rows x 46 columns]"
      ]
     },
     "execution_count": 47,
     "metadata": {},
     "output_type": "execute_result"
    }
   ],
   "source": [
    "df.head() #After Cleaning columns"
   ]
  },
  {
   "cell_type": "code",
   "execution_count": 48,
   "metadata": {},
   "outputs": [
    {
     "name": "stdout",
     "output_type": "stream",
     "text": [
      "<class 'pandas.core.frame.DataFrame'>\n",
      "Int64Index: 10829 entries, 0 to 10840\n",
      "Data columns (total 46 columns):\n",
      "App                        10829 non-null int64\n",
      "Category                   10829 non-null object\n",
      "Rating                     10829 non-null float64\n",
      "Reviews                    10829 non-null object\n",
      "Size                       10829 non-null float64\n",
      "Installs                   10829 non-null object\n",
      "Type                       10829 non-null uint8\n",
      "Price                      10829 non-null object\n",
      "Content Rating             10829 non-null int64\n",
      "Genres                     10829 non-null int64\n",
      "Last Updated               10829 non-null object\n",
      "Current Ver                10829 non-null float64\n",
      "Android Ver                10829 non-null object\n",
      "cat_ART_AND_DESIGN         10829 non-null int64\n",
      "cat_AUTO_AND_VEHICLES      10829 non-null int64\n",
      "cat_BEAUTY                 10829 non-null int64\n",
      "cat_BOOKS_AND_REFERENCE    10829 non-null int64\n",
      "cat_BUSINESS               10829 non-null int64\n",
      "cat_COMICS                 10829 non-null int64\n",
      "cat_COMMUNICATION          10829 non-null int64\n",
      "cat_DATING                 10829 non-null int64\n",
      "cat_EDUCATION              10829 non-null int64\n",
      "cat_ENTERTAINMENT          10829 non-null int64\n",
      "cat_EVENTS                 10829 non-null int64\n",
      "cat_FAMILY                 10829 non-null int64\n",
      "cat_FINANCE                10829 non-null int64\n",
      "cat_FOOD_AND_DRINK         10829 non-null int64\n",
      "cat_GAME                   10829 non-null int64\n",
      "cat_HEALTH_AND_FITNESS     10829 non-null int64\n",
      "cat_HOUSE_AND_HOME         10829 non-null int64\n",
      "cat_LIBRARIES_AND_DEMO     10829 non-null int64\n",
      "cat_LIFESTYLE              10829 non-null int64\n",
      "cat_MAPS_AND_NAVIGATION    10829 non-null int64\n",
      "cat_MEDICAL                10829 non-null int64\n",
      "cat_NEWS_AND_MAGAZINES     10829 non-null int64\n",
      "cat_PARENTING              10829 non-null int64\n",
      "cat_PERSONALIZATION        10829 non-null int64\n",
      "cat_PHOTOGRAPHY            10829 non-null int64\n",
      "cat_PRODUCTIVITY           10829 non-null int64\n",
      "cat_SHOPPING               10829 non-null int64\n",
      "cat_SOCIAL                 10829 non-null int64\n",
      "cat_SPORTS                 10829 non-null int64\n",
      "cat_TOOLS                  10829 non-null int64\n",
      "cat_TRAVEL_AND_LOCAL       10829 non-null int64\n",
      "cat_VIDEO_PLAYERS          10829 non-null int64\n",
      "cat_WEATHER                10829 non-null int64\n",
      "dtypes: float64(3), int64(36), object(6), uint8(1)\n",
      "memory usage: 4.1+ MB\n"
     ]
    }
   ],
   "source": [
    "df.info()"
   ]
  },
  {
   "cell_type": "code",
   "execution_count": 49,
   "metadata": {},
   "outputs": [],
   "source": [
    "pd.set_option('display.max_columns',None)"
   ]
  },
  {
   "cell_type": "code",
   "execution_count": 50,
   "metadata": {},
   "outputs": [
    {
     "data": {
      "text/plain": [
       "Index(['App', 'Category', 'Rating', 'Reviews', 'Size', 'Installs', 'Type',\n",
       "       'Price', 'Content Rating', 'Genres', 'Last Updated', 'Current Ver',\n",
       "       'Android Ver', 'cat_ART_AND_DESIGN', 'cat_AUTO_AND_VEHICLES',\n",
       "       'cat_BEAUTY', 'cat_BOOKS_AND_REFERENCE', 'cat_BUSINESS', 'cat_COMICS',\n",
       "       'cat_COMMUNICATION', 'cat_DATING', 'cat_EDUCATION', 'cat_ENTERTAINMENT',\n",
       "       'cat_EVENTS', 'cat_FAMILY', 'cat_FINANCE', 'cat_FOOD_AND_DRINK',\n",
       "       'cat_GAME', 'cat_HEALTH_AND_FITNESS', 'cat_HOUSE_AND_HOME',\n",
       "       'cat_LIBRARIES_AND_DEMO', 'cat_LIFESTYLE', 'cat_MAPS_AND_NAVIGATION',\n",
       "       'cat_MEDICAL', 'cat_NEWS_AND_MAGAZINES', 'cat_PARENTING',\n",
       "       'cat_PERSONALIZATION', 'cat_PHOTOGRAPHY', 'cat_PRODUCTIVITY',\n",
       "       'cat_SHOPPING', 'cat_SOCIAL', 'cat_SPORTS', 'cat_TOOLS',\n",
       "       'cat_TRAVEL_AND_LOCAL', 'cat_VIDEO_PLAYERS', 'cat_WEATHER'],\n",
       "      dtype='object')"
      ]
     },
     "execution_count": 50,
     "metadata": {},
     "output_type": "execute_result"
    }
   ],
   "source": [
    "df.columns"
   ]
  },
  {
   "cell_type": "code",
   "execution_count": 51,
   "metadata": {},
   "outputs": [],
   "source": [
    "features = ['App', 'Reviews', 'Size', 'Installs', 'Type', 'Price', 'Content Rating', 'Genres', 'Current Ver'\n",
    "           ,'cat_ART_AND_DESIGN', 'cat_AUTO_AND_VEHICLES',\n",
    "       'cat_BEAUTY', 'cat_BOOKS_AND_REFERENCE', 'cat_BUSINESS', 'cat_COMICS',\n",
    "       'cat_COMMUNICATION', 'cat_DATING', 'cat_EDUCATION', 'cat_ENTERTAINMENT',\n",
    "       'cat_EVENTS', 'cat_FAMILY', 'cat_FINANCE', 'cat_FOOD_AND_DRINK',\n",
    "       'cat_GAME', 'cat_HEALTH_AND_FITNESS', 'cat_HOUSE_AND_HOME',\n",
    "       'cat_LIBRARIES_AND_DEMO', 'cat_LIFESTYLE', 'cat_MAPS_AND_NAVIGATION',\n",
    "       'cat_MEDICAL', 'cat_NEWS_AND_MAGAZINES', 'cat_PARENTING',\n",
    "       'cat_PERSONALIZATION', 'cat_PHOTOGRAPHY', 'cat_PRODUCTIVITY',\n",
    "       'cat_SHOPPING', 'cat_SOCIAL', 'cat_SPORTS', 'cat_TOOLS',\n",
    "       'cat_TRAVEL_AND_LOCAL', 'cat_VIDEO_PLAYERS', 'cat_WEATHER']\n",
    "X = df[features]\n"
   ]
  },
  {
   "cell_type": "code",
   "execution_count": 52,
   "metadata": {},
   "outputs": [],
   "source": [
    "y = df['Rating']"
   ]
  },
  {
   "cell_type": "code",
   "execution_count": 53,
   "metadata": {},
   "outputs": [
    {
     "data": {
      "text/plain": [
       "App                          int64\n",
       "Reviews                     object\n",
       "Size                       float64\n",
       "Installs                    object\n",
       "Type                         uint8\n",
       "Price                       object\n",
       "Content Rating               int64\n",
       "Genres                       int64\n",
       "Current Ver                float64\n",
       "cat_ART_AND_DESIGN           int64\n",
       "cat_AUTO_AND_VEHICLES        int64\n",
       "cat_BEAUTY                   int64\n",
       "cat_BOOKS_AND_REFERENCE      int64\n",
       "cat_BUSINESS                 int64\n",
       "cat_COMICS                   int64\n",
       "cat_COMMUNICATION            int64\n",
       "cat_DATING                   int64\n",
       "cat_EDUCATION                int64\n",
       "cat_ENTERTAINMENT            int64\n",
       "cat_EVENTS                   int64\n",
       "cat_FAMILY                   int64\n",
       "cat_FINANCE                  int64\n",
       "cat_FOOD_AND_DRINK           int64\n",
       "cat_GAME                     int64\n",
       "cat_HEALTH_AND_FITNESS       int64\n",
       "cat_HOUSE_AND_HOME           int64\n",
       "cat_LIBRARIES_AND_DEMO       int64\n",
       "cat_LIFESTYLE                int64\n",
       "cat_MAPS_AND_NAVIGATION      int64\n",
       "cat_MEDICAL                  int64\n",
       "cat_NEWS_AND_MAGAZINES       int64\n",
       "cat_PARENTING                int64\n",
       "cat_PERSONALIZATION          int64\n",
       "cat_PHOTOGRAPHY              int64\n",
       "cat_PRODUCTIVITY             int64\n",
       "cat_SHOPPING                 int64\n",
       "cat_SOCIAL                   int64\n",
       "cat_SPORTS                   int64\n",
       "cat_TOOLS                    int64\n",
       "cat_TRAVEL_AND_LOCAL         int64\n",
       "cat_VIDEO_PLAYERS            int64\n",
       "cat_WEATHER                  int64\n",
       "dtype: object"
      ]
     },
     "execution_count": 53,
     "metadata": {},
     "output_type": "execute_result"
    }
   ],
   "source": [
    "X.dtypes"
   ]
  },
  {
   "cell_type": "markdown",
   "metadata": {},
   "source": [
    "# Training a data"
   ]
  },
  {
   "cell_type": "code",
   "execution_count": 54,
   "metadata": {},
   "outputs": [],
   "source": [
    "from sklearn.model_selection import train_test_split"
   ]
  },
  {
   "cell_type": "code",
   "execution_count": 55,
   "metadata": {},
   "outputs": [],
   "source": [
    "X_train, X_test, y_train, y_test = train_test_split(X, y, test_size=0.3, random_state=101)"
   ]
  },
  {
   "cell_type": "markdown",
   "metadata": {},
   "source": [
    "# Decision Tree Model Evaluation"
   ]
  },
  {
   "cell_type": "code",
   "execution_count": 56,
   "metadata": {},
   "outputs": [],
   "source": [
    "from sklearn.tree import DecisionTreeRegressor"
   ]
  },
  {
   "cell_type": "code",
   "execution_count": 57,
   "metadata": {},
   "outputs": [],
   "source": [
    "tree=DecisionTreeRegressor()"
   ]
  },
  {
   "cell_type": "code",
   "execution_count": 58,
   "metadata": {},
   "outputs": [
    {
     "data": {
      "text/plain": [
       "DecisionTreeRegressor(criterion='mse', max_depth=None, max_features=None,\n",
       "                      max_leaf_nodes=None, min_impurity_decrease=0.0,\n",
       "                      min_impurity_split=None, min_samples_leaf=1,\n",
       "                      min_samples_split=2, min_weight_fraction_leaf=0.0,\n",
       "                      presort=False, random_state=None, splitter='best')"
      ]
     },
     "execution_count": 58,
     "metadata": {},
     "output_type": "execute_result"
    }
   ],
   "source": [
    "tree.fit(X_train,y_train)"
   ]
  },
  {
   "cell_type": "code",
   "execution_count": 59,
   "metadata": {},
   "outputs": [],
   "source": [
    "pred=tree.predict(X_test)"
   ]
  },
  {
   "cell_type": "code",
   "execution_count": 60,
   "metadata": {},
   "outputs": [
    {
     "data": {
      "text/plain": [
       "<matplotlib.collections.PathCollection at 0x1a25917690>"
      ]
     },
     "execution_count": 60,
     "metadata": {},
     "output_type": "execute_result"
    },
    {
     "data": {
      "image/png": "[encoded data removed]",
      "text/plain": [
       "<Figure size 432x288 with 1 Axes>"
      ]
     },
     "metadata": {
      "needs_background": "light"
     },
     "output_type": "display_data"
    }
   ],
   "source": [
    "plt.scatter(y_test,pred)"
   ]
  },
  {
   "cell_type": "code",
   "execution_count": 61,
   "metadata": {},
   "outputs": [
    {
     "data": {
      "text/plain": [
       "<matplotlib.axes._subplots.AxesSubplot at 0x1a265b9c90>"
      ]
     },
     "execution_count": 61,
     "metadata": {},
     "output_type": "execute_result"
    },
    {
     "data": {
      "image/png": "[encoded data removed]",
      "text/plain": [
       "<Figure size 432x288 with 1 Axes>"
      ]
     },
     "metadata": {
      "needs_background": "light"
     },
     "output_type": "display_data"
    }
   ],
   "source": [
    "sns.distplot((y_test-pred),bins=30)"
   ]
  },
  {
   "cell_type": "code",
   "execution_count": 62,
   "metadata": {},
   "outputs": [],
   "source": [
    "from sklearn import metrics"
   ]
  },
  {
   "cell_type": "code",
   "execution_count": 63,
   "metadata": {},
   "outputs": [
    {
     "name": "stdout",
     "output_type": "stream",
     "text": [
      "MSE: 0.3634903047091413\n",
      "MAE: 0.34779932286857573\n",
      "RMSE: 0.6029015713274773\n"
     ]
    }
   ],
   "source": [
    "print(\"MSE:\",metrics.mean_squared_error(y_test,pred))\n",
    "print(\"MAE:\",metrics.mean_absolute_error(y_test,pred))\n",
    "print(\"RMSE:\",np.sqrt(metrics.mean_squared_error(y_test,pred)))"
   ]
  },
  {
   "cell_type": "markdown",
   "metadata": {},
   "source": [
    "# Model Performance"
   ]
  },
  {
   "cell_type": "code",
   "execution_count": 64,
   "metadata": {},
   "outputs": [
    {
     "data": {
      "text/plain": [
       "'Accuracy: 85.06%'"
      ]
     },
     "execution_count": 64,
     "metadata": {},
     "output_type": "execute_result"
    }
   ],
   "source": [
    "# Calculate the mean accuracy of the Decision Tree model\n",
    "accuracy = tree.score(X_test,y_test)\n",
    "'Accuracy: ' + str(np.round(accuracy*100, 2)) + '%'\n"
   ]
  },
  {
   "cell_type": "markdown",
   "metadata": {},
   "source": [
    "# Random Forest Model Evaluation"
   ]
  },
  {
   "cell_type": "code",
   "execution_count": 87,
   "metadata": {},
   "outputs": [],
   "source": [
    "from sklearn.ensemble import RandomForestRegressor"
   ]
  },
  {
   "cell_type": "code",
   "execution_count": 88,
   "metadata": {},
   "outputs": [],
   "source": [
    "rfr=RandomForestRegressor(n_estimators=300)"
   ]
  },
  {
   "cell_type": "code",
   "execution_count": 89,
   "metadata": {},
   "outputs": [
    {
     "data": {
      "text/plain": [
       "RandomForestRegressor(bootstrap=True, criterion='mse', max_depth=None,\n",
       "                      max_features='auto', max_leaf_nodes=None,\n",
       "                      min_impurity_decrease=0.0, min_impurity_split=None,\n",
       "                      min_samples_leaf=1, min_samples_split=2,\n",
       "                      min_weight_fraction_leaf=0.0, n_estimators=300,\n",
       "                      n_jobs=None, oob_score=False, random_state=None,\n",
       "                      verbose=0, warm_start=False)"
      ]
     },
     "execution_count": 89,
     "metadata": {},
     "output_type": "execute_result"
    }
   ],
   "source": [
    "rfr.fit(X_train,y_train)"
   ]
  },
  {
   "cell_type": "code",
   "execution_count": 90,
   "metadata": {},
   "outputs": [],
   "source": [
    "prediction=rfr.predict(X_test)"
   ]
  },
  {
   "cell_type": "code",
   "execution_count": 91,
   "metadata": {},
   "outputs": [
    {
     "name": "stdout",
     "output_type": "stream",
     "text": [
      "MSE: 0.19181518597175223\n",
      "MAE: 0.26061547142710667\n",
      "RMSE: 0.43796710603851546\n"
     ]
    }
   ],
   "source": [
    "print(\"MSE:\",metrics.mean_squared_error(y_test,prediction))\n",
    "print(\"MAE:\",metrics.mean_absolute_error(y_test,prediction))\n",
    "print(\"RMSE:\",np.sqrt(metrics.mean_squared_error(y_test,prediction)))"
   ]
  },
  {
   "cell_type": "markdown",
   "metadata": {},
   "source": [
    "# Model Performance"
   ]
  },
  {
   "cell_type": "code",
   "execution_count": 92,
   "metadata": {},
   "outputs": [
    {
     "name": "stdout",
     "output_type": "stream",
     "text": [
      "Accuracy is: 92.12 %\n"
     ]
    }
   ],
   "source": [
    "#calculating Accuaracy of Random Forest model\n",
    "accuracy = rfr.score(X_test,y_test)\n",
    "print('Accuracy is:',str(np.round(accuracy* 100, 2)),\"%\")"
   ]
  },
  {
   "cell_type": "markdown",
   "metadata": {},
   "source": [
    "Evaluating a K-Fold cross validation"
   ]
  },
  {
   "cell_type": "code",
   "execution_count": 93,
   "metadata": {},
   "outputs": [],
   "source": [
    "from sklearn.model_selection import cross_val_score"
   ]
  },
  {
   "cell_type": "code",
   "execution_count": 94,
   "metadata": {},
   "outputs": [
    {
     "name": "stderr",
     "output_type": "stream",
     "text": [
      "[Parallel(n_jobs=-1)]: Using backend LokyBackend with 4 concurrent workers.\n",
      "[Parallel(n_jobs=-1)]: Done  10 out of  10 | elapsed:   51.0s finished\n"
     ]
    }
   ],
   "source": [
    "Accuracy= cross_val_score(estimator=RandomForestRegressor(n_estimators=300),n_jobs=-1,\n",
    "    verbose=1,cv=10,X=X_train,y=y_train)"
   ]
  },
  {
   "cell_type": "code",
   "execution_count": 95,
   "metadata": {},
   "outputs": [
    {
     "data": {
      "text/plain": [
       "array([0.92349225, 0.93500486, 0.91973656, 0.9273379 , 0.94640788,\n",
       "       0.92825109, 0.92113116, 0.92759886, 0.93020651, 0.92948664])"
      ]
     },
     "execution_count": 95,
     "metadata": {},
     "output_type": "execute_result"
    }
   ],
   "source": [
    "Accuracy"
   ]
  },
  {
   "cell_type": "code",
   "execution_count": 96,
   "metadata": {},
   "outputs": [
    {
     "data": {
      "text/plain": [
       "0.9288653716994402"
      ]
     },
     "execution_count": 96,
     "metadata": {},
     "output_type": "execute_result"
    }
   ],
   "source": [
    "Accuracy.mean()"
   ]
  },
  {
   "cell_type": "code",
   "execution_count": 97,
   "metadata": {},
   "outputs": [
    {
     "data": {
      "text/plain": [
       "0.007238477279385695"
      ]
     },
     "execution_count": 97,
     "metadata": {},
     "output_type": "execute_result"
    }
   ],
   "source": [
    "Accuracy.std()"
   ]
  },
  {
   "cell_type": "markdown",
   "metadata": {},
   "source": [
    "# Conclusion"
   ]
  },
  {
   "cell_type": "markdown",
   "metadata": {},
   "source": [
    "### With the help of Decision Tree it obtain Accuaracy of 85.06% and Using K-fold cross valiation on Random forest it obtain mean Accuaracy of  92.89 %"
   ]
  },
  {
   "cell_type": "code",
   "execution_count": null,
   "metadata": {},
   "outputs": [],
   "source": []
  }
 ],
 "metadata": {
  "kernelspec": {
   "display_name": "Python 3",
   "language": "python",
   "name": "python3"
  },
  "language_info": {
   "codemirror_mode": {
    "name": "ipython",
    "version": 3
   },
   "file_extension": ".py",
   "mimetype": "text/x-python",
   "name": "python",
   "nbconvert_exporter": "python",
   "pygments_lexer": "ipython3",
   "version": "3.7.4"
  }
 },
 "nbformat": 4,
 "nbformat_minor": 2
}
